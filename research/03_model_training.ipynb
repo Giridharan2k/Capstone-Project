{
 "cells": [
  {
   "cell_type": "code",
   "execution_count": 1,
   "metadata": {},
   "outputs": [],
   "source": [
    "import os"
   ]
  },
  {
   "cell_type": "code",
   "execution_count": 2,
   "metadata": {},
   "outputs": [
    {
     "data": {
      "text/plain": [
       "'d:\\\\Final Year Project\\\\Capstone-Project\\\\research'"
      ]
     },
     "execution_count": 2,
     "metadata": {},
     "output_type": "execute_result"
    }
   ],
   "source": [
    "%pwd  "
   ]
  },
  {
   "cell_type": "code",
   "execution_count": 3,
   "metadata": {},
   "outputs": [],
   "source": [
    "os.chdir('../')"
   ]
  },
  {
   "cell_type": "code",
   "execution_count": 4,
   "metadata": {},
   "outputs": [
    {
     "data": {
      "text/plain": [
       "'d:\\\\Final Year Project\\\\Capstone-Project'"
      ]
     },
     "execution_count": 4,
     "metadata": {},
     "output_type": "execute_result"
    }
   ],
   "source": [
    "%pwd"
   ]
  },
  {
   "cell_type": "code",
   "execution_count": 5,
   "metadata": {},
   "outputs": [],
   "source": [
    "from dataclasses import dataclass\n",
    "from pathlib import Path\n",
    "\n",
    "\n",
    "@dataclass(frozen=True)\n",
    "class TrainingConfig:\n",
    "    root_dir: Path\n",
    "    trained_model_path: Path\n",
    "    updated_base_model_path: Path\n",
    "    training_data: Path\n",
    "    params_epoch: int  \n",
    "    params_image_size: list"
   ]
  },
  {
   "cell_type": "code",
   "execution_count": 6,
   "metadata": {},
   "outputs": [],
   "source": [
    "from src.KidneyProject.constants import *\n",
    "from src.KidneyProject.utils.common import read_yaml,create_directories\n",
    "import tensorflow as tf  "
   ]
  },
  {
   "cell_type": "code",
   "execution_count": 7,
   "metadata": {},
   "outputs": [],
   "source": [
    "class ConfigurationManager:\n",
    "    def __init__(\n",
    "        self,\n",
    "        config_filepath = CONFIG_FILE_PATH,\n",
    "        params_fiepath = PARAMS_FILE_PATH):\n",
    "        \n",
    "        self.config = read_yaml(config_filepath) \n",
    "        self.params = read_yaml(params_fiepath) \n",
    "    \n",
    "    def get_training_path(self) -> TrainingConfig:\n",
    "        training = self.config.training    \n",
    "        prepare_base_model = self.config.prepare_base_model\n",
    "        params = self.params\n",
    "        training_data = os.path.join(self.config.data_ingestion.unzip_dir,\"CT Kidney Dataset\")\n",
    "        create_directories([\n",
    "            Path(training.root_dir)\n",
    "        ]) \n",
    "        \n",
    "        training_config = TrainingConfig(\n",
    "            root_dir=Path(training.root_dir),\n",
    "            trained_model_path=Path(training.trained_model_path),\n",
    "            updated_base_model_path = Path(prepare_base_model.updated_base_model_path),\n",
    "            training_data=Path(training_data),\n",
    "            params_epoch=params.EPOCHS,  \n",
    "            params_image_size=params.IMAGE_SIZE\n",
    "        )  \n",
    "        \n",
    "        return training_config "
   ]
  },
  {
   "cell_type": "code",
   "execution_count": 8,
   "metadata": {},
   "outputs": [],
   "source": [
    "import os\n",
    "import urllib.request as request \n",
    "from zipfile import ZipFile \n",
    "import tensorflow as tf\n",
    "import time"
   ]
  },
  {
   "cell_type": "code",
   "execution_count": 9,
   "metadata": {},
   "outputs": [],
   "source": [
    "class Training:\n",
    "    def __init__(self, config: TrainingConfig):\n",
    "        self.config = config\n",
    "\n",
    "    def get_base_model(self):\n",
    "        self.model = tf.keras.models.load_model(\n",
    "            self.config.updated_base_model_path\n",
    "        )\n",
    "        self.model.summary()\n",
    "\n",
    "    def train_valid_generator(self):\n",
    "        datagenerator_kwargs = dict(\n",
    "            rescale=1.0 / 255.0,\n",
    "            validation_split=0.1\n",
    "        )\n",
    "        self.callback = tf.keras.callbacks.EarlyStopping(\n",
    "            monitor=\"val_loss\",\n",
    "            min_delta=0.0001,\n",
    "            patience=5,\n",
    "            verbose=1,\n",
    "            mode=\"auto\",\n",
    "            baseline=None,\n",
    "            restore_best_weights=False\n",
    "        )\n",
    " \n",
    "        self.train_generator = tf.keras.utils.image_dataset_from_directory(\n",
    "            directory=self.config.training_data,\n",
    "            image_size=self.config.params_image_size[:-1], \n",
    "            validation_split=0.1,\n",
    "            subset=\"training\",\n",
    "            seed=123,\n",
    "            label_mode='categorical'\n",
    "        )\n",
    "\n",
    "        self.valid_generator = tf.keras.utils.image_dataset_from_directory(\n",
    "            directory=self.config.training_data,\n",
    "            image_size=self.config.params_image_size[:-1], \n",
    "            validation_split=0.2,\n",
    "            subset=\"validation\",\n",
    "            seed=123,\n",
    "            label_mode='categorical'\n",
    "        )\n",
    "\n",
    "    @staticmethod\n",
    "    def save_model(path: Path, model: tf.keras.Model):\n",
    "        model.save(path)\n",
    "\n",
    "    def train(self):\n",
    "        self.model.fit(\n",
    "            self.train_generator,\n",
    "            epochs=self.config.params_epoch,\n",
    "            validation_data=self.valid_generator,\n",
    "            callbacks=self.callback\n",
    "        )\n",
    "\n",
    "        self.save_model(\n",
    "            path=self.config.trained_model_path,\n",
    "            model=self.model\n",
    "        )"
   ]
  },
  {
   "cell_type": "code",
   "execution_count": 10,
   "metadata": {},
   "outputs": [
    {
     "name": "stdout",
     "output_type": "stream",
     "text": [
      "[2024-02-29 05:58:18,091: INFO: common: yaml file: config\\config.yaml loaded successfully]\n",
      "[2024-02-29 05:58:18,100: INFO: common: yaml file: params.yaml loaded successfully]\n",
      "[2024-02-29 05:58:18,103: INFO: common: created directory at: artifacts\\training]\n",
      "Model: \"model\"\n",
      "_________________________________________________________________\n",
      " Layer (type)                Output Shape              Param #   \n",
      "=================================================================\n",
      " input_1 (InputLayer)        [(None, 224, 224, 3)]     0         \n",
      "                                                                 \n",
      " block1_conv1 (Conv2D)       (None, 224, 224, 64)      1792      \n",
      "                                                                 \n",
      " block1_conv2 (Conv2D)       (None, 224, 224, 64)      36928     \n",
      "                                                                 \n",
      " block1_pool (MaxPooling2D)  (None, 112, 112, 64)      0         \n",
      "                                                                 \n",
      " block2_conv1 (Conv2D)       (None, 112, 112, 128)     73856     \n",
      "                                                                 \n",
      " block2_conv2 (Conv2D)       (None, 112, 112, 128)     147584    \n",
      "                                                                 \n",
      " block2_pool (MaxPooling2D)  (None, 56, 56, 128)       0         \n",
      "                                                                 \n",
      " block3_conv1 (Conv2D)       (None, 56, 56, 256)       295168    \n",
      "                                                                 \n",
      " block3_conv2 (Conv2D)       (None, 56, 56, 256)       590080    \n",
      "                                                                 \n",
      " block3_conv3 (Conv2D)       (None, 56, 56, 256)       590080    \n",
      "                                                                 \n",
      " block3_pool (MaxPooling2D)  (None, 28, 28, 256)       0         \n",
      "                                                                 \n",
      " block4_conv1 (Conv2D)       (None, 28, 28, 512)       1180160   \n",
      "                                                                 \n",
      " block4_conv2 (Conv2D)       (None, 28, 28, 512)       2359808   \n",
      "                                                                 \n",
      " block4_conv3 (Conv2D)       (None, 28, 28, 512)       2359808   \n",
      "                                                                 \n",
      " block4_pool (MaxPooling2D)  (None, 14, 14, 512)       0         \n",
      "                                                                 \n",
      " block5_conv1 (Conv2D)       (None, 14, 14, 512)       2359808   \n",
      "                                                                 \n",
      " block5_conv2 (Conv2D)       (None, 14, 14, 512)       2359808   \n",
      "                                                                 \n",
      " block5_conv3 (Conv2D)       (None, 14, 14, 512)       2359808   \n",
      "                                                                 \n",
      " block5_pool (MaxPooling2D)  (None, 7, 7, 512)         0         \n",
      "                                                                 \n",
      " global_max_pooling2d (Globa  (None, 512)              0         \n",
      " lMaxPooling2D)                                                  \n",
      "                                                                 \n",
      " flatten (Flatten)           (None, 512)               0         \n",
      "                                                                 \n",
      " dense (Dense)               (None, 512)               262656    \n",
      "                                                                 \n",
      " batch_normalization (BatchN  (None, 512)              2048      \n",
      " ormalization)                                                   \n",
      "                                                                 \n",
      " dropout (Dropout)           (None, 512)               0         \n",
      "                                                                 \n",
      " dense_1 (Dense)             (None, 4)                 2052      \n",
      "                                                                 \n",
      "=================================================================\n",
      "Total params: 14,981,444\n",
      "Trainable params: 265,732\n",
      "Non-trainable params: 14,715,712\n",
      "_________________________________________________________________\n",
      "Found 12446 files belonging to 4 classes.\n",
      "Using 11202 files for training.\n",
      "Found 12446 files belonging to 4 classes.\n",
      "Using 2489 files for validation.\n",
      "Epoch 1/20\n",
      "351/351 [==============================] - 749s 2s/step - loss: 0.9691 - accuracy: 0.6429 - val_loss: 0.3264 - val_accuracy: 0.8871\n",
      "Epoch 2/20\n",
      "351/351 [==============================] - 721s 2s/step - loss: 0.4174 - accuracy: 0.8457 - val_loss: 0.1734 - val_accuracy: 0.9462\n",
      "Epoch 3/20\n",
      "351/351 [==============================] - 699s 2s/step - loss: 0.2703 - accuracy: 0.9046 - val_loss: 0.1181 - val_accuracy: 0.9671\n",
      "Epoch 4/20\n",
      "351/351 [==============================] - 694s 2s/step - loss: 0.1887 - accuracy: 0.9343 - val_loss: 0.0741 - val_accuracy: 0.9859\n",
      "Epoch 5/20\n",
      "351/351 [==============================] - 705s 2s/step - loss: 0.1493 - accuracy: 0.9518 - val_loss: 0.0550 - val_accuracy: 0.9883\n",
      "Epoch 6/20\n",
      "351/351 [==============================] - 689s 2s/step - loss: 0.1207 - accuracy: 0.9609 - val_loss: 0.0434 - val_accuracy: 0.9920\n",
      "Epoch 7/20\n",
      "351/351 [==============================] - 696s 2s/step - loss: 0.1027 - accuracy: 0.9687 - val_loss: 0.0320 - val_accuracy: 0.9948\n",
      "Epoch 8/20\n",
      "351/351 [==============================] - 685s 2s/step - loss: 0.0777 - accuracy: 0.9767 - val_loss: 0.0249 - val_accuracy: 0.9964\n",
      "Epoch 9/20\n",
      "351/351 [==============================] - 683s 2s/step - loss: 0.0643 - accuracy: 0.9806 - val_loss: 0.0197 - val_accuracy: 0.9968\n",
      "Epoch 10/20\n",
      "351/351 [==============================] - 684s 2s/step - loss: 0.0599 - accuracy: 0.9816 - val_loss: 0.0169 - val_accuracy: 0.9984\n",
      "Epoch 11/20\n",
      "351/351 [==============================] - 687s 2s/step - loss: 0.0519 - accuracy: 0.9852 - val_loss: 0.0130 - val_accuracy: 0.9992\n",
      "Epoch 12/20\n",
      "351/351 [==============================] - 685s 2s/step - loss: 0.0447 - accuracy: 0.9878 - val_loss: 0.0112 - val_accuracy: 0.9988\n",
      "Epoch 13/20\n",
      "351/351 [==============================] - 686s 2s/step - loss: 0.0376 - accuracy: 0.9911 - val_loss: 0.0091 - val_accuracy: 0.9996\n",
      "Epoch 14/20\n",
      "351/351 [==============================] - 686s 2s/step - loss: 0.0342 - accuracy: 0.9921 - val_loss: 0.0075 - val_accuracy: 0.9992\n",
      "Epoch 15/20\n",
      "351/351 [==============================] - 684s 2s/step - loss: 0.0309 - accuracy: 0.9920 - val_loss: 0.0064 - val_accuracy: 0.9992\n",
      "Epoch 16/20\n",
      "351/351 [==============================] - 685s 2s/step - loss: 0.0285 - accuracy: 0.9924 - val_loss: 0.0059 - val_accuracy: 1.0000\n",
      "Epoch 17/20\n",
      "351/351 [==============================] - 683s 2s/step - loss: 0.0287 - accuracy: 0.9925 - val_loss: 0.0086 - val_accuracy: 0.9996\n",
      "Epoch 18/20\n",
      "351/351 [==============================] - 686s 2s/step - loss: 0.0239 - accuracy: 0.9933 - val_loss: 0.0042 - val_accuracy: 1.0000\n",
      "Epoch 19/20\n",
      "351/351 [==============================] - 682s 2s/step - loss: 0.0238 - accuracy: 0.9941 - val_loss: 0.0044 - val_accuracy: 0.9996\n",
      "Epoch 20/20\n",
      "351/351 [==============================] - 679s 2s/step - loss: 0.0228 - accuracy: 0.9945 - val_loss: 0.0057 - val_accuracy: 0.9992\n"
     ]
    }
   ],
   "source": [
    "try:\n",
    "    config = ConfigurationManager()\n",
    "    training_config = config.get_training_path()\n",
    "    training = Training(config=training_config)\n",
    "    training.get_base_model()\n",
    "    training.train_valid_generator()\n",
    "    training.train()  \n",
    "except Exception as e:\n",
    "    raise e     "
   ]
  }
 ],
 "metadata": {
  "kernelspec": {
   "display_name": "Kidney",
   "language": "python",
   "name": "python3"
  },
  "language_info": {
   "codemirror_mode": {
    "name": "ipython",
    "version": 3
   },
   "file_extension": ".py",
   "mimetype": "text/x-python",
   "name": "python",
   "nbconvert_exporter": "python",
   "pygments_lexer": "ipython3",
   "version": "3.8.0"
  }
 },
 "nbformat": 4,
 "nbformat_minor": 2
}
